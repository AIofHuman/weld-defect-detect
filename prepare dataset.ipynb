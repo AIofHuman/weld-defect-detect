{
 "cells": [
  {
   "cell_type": "code",
   "execution_count": 12,
   "metadata": {},
   "outputs": [
    {
     "name": "stdout",
     "output_type": "stream",
     "text": [
      "train size 988 test size 174\n"
     ]
    }
   ],
   "source": [
    "import os\n",
    "import shutil\n",
    "import random\n",
    "\n",
    "\n",
    "DIR_IMAGES = './yolov5/datasets/rosatom/images/'\n",
    "DIR_LABELS = './yolov5/datasets/rosatom/labels/'\n",
    "\n",
    "files = [\n",
    "    f\n",
    "    for f in os.listdir(DIR_IMAGES)\n",
    "    if os.path.isfile(os.path.join(DIR_IMAGES, f))\n",
    "]\n",
    "val_files = random.sample(files, int(len(files) * 0.15))\n",
    "print(f'train size {len(set(files)-set(val_files))} test size {len(val_files)}')"
   ]
  },
  {
   "cell_type": "code",
   "execution_count": 13,
   "metadata": {},
   "outputs": [],
   "source": [
    "def move_files(list_files, source, destination, type_file):\n",
    "    for f in list_files:\n",
    "        file_name = f.replace('.jpg', type_file)\n",
    "        src_path = os.path.join(source, file_name)\n",
    "        dst_path = os.path.join(source + destination, file_name)\n",
    "        shutil.move(src_path, dst_path)\n",
    "\n",
    "\n",
    "# validation files first\n",
    "move_files(val_files, DIR_IMAGES, 'val/', '.jpg')\n",
    "move_files(val_files, DIR_LABELS, 'val/', '.txt')"
   ]
  },
  {
   "cell_type": "code",
   "execution_count": 14,
   "metadata": {},
   "outputs": [],
   "source": [
    "# then train files\n",
    "move_files(set(files) - set(val_files), DIR_IMAGES, 'train/', '.jpg')\n",
    "move_files(set(files) - set(val_files), DIR_LABELS, 'train/', '.txt')"
   ]
  },
  {
   "cell_type": "code",
   "execution_count": null,
   "metadata": {},
   "outputs": [],
   "source": []
  }
 ],
 "metadata": {
  "kernelspec": {
   "display_name": "venv",
   "language": "python",
   "name": "python3"
  },
  "language_info": {
   "codemirror_mode": {
    "name": "ipython",
    "version": 3
   },
   "file_extension": ".py",
   "mimetype": "text/x-python",
   "name": "python",
   "nbconvert_exporter": "python",
   "pygments_lexer": "ipython3",
   "version": "3.9.10"
  }
 },
 "nbformat": 4,
 "nbformat_minor": 2
}
