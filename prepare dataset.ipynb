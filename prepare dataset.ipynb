{
 "cells": [
  {
   "cell_type": "code",
   "execution_count": 12,
   "metadata": {},
   "outputs": [
    {
     "name": "stdout",
     "output_type": "stream",
     "text": [
      "train size 988 test size 174\n"
     ]
    }
   ],
   "source": [
    "import os\n",
    "import shutil\n",
    "import random\n",
    "\n",
    "\n",
    "DIR_IMAGES = './yolov5/datasets/rosatom/images/'\n",
    "DIR_LABELS = './yolov5/datasets/rosatom/labels/'\n",
    "\n",
    "files = [\n",
    "    f\n",
    "    for f in os.listdir(DIR_IMAGES)\n",
    "    if os.path.isfile(os.path.join(DIR_IMAGES, f))\n",
    "]\n",
    "val_files = random.sample(files, int(len(files) * 0.15))\n",
    "print(f'train size {len(set(files)-set(val_files))} test size {len(val_files)}')"
   ]
  },
  {
   "cell_type": "code",
   "execution_count": 13,
   "metadata": {},
   "outputs": [],
   "source": [
    "def move_files(list_files, source, destination, type_file):\n",
    "    for f in list_files:\n",
    "        file_name = f.replace('.jpg', type_file)\n",
    "        src_path = os.path.join(source, file_name)\n",
    "        dst_path = os.path.join(source + destination, file_name)\n",
    "        shutil.move(src_path, dst_path)\n",
    "\n",
    "\n",
    "# validation files first\n",
    "move_files(val_files, DIR_IMAGES, 'val/', '.jpg')\n",
    "move_files(val_files, DIR_LABELS, 'val/', '.txt')"
   ]
  },
  {
   "cell_type": "code",
   "execution_count": 14,
   "metadata": {},
   "outputs": [],
   "source": [
    "# then train files\n",
    "move_files(set(files) - set(val_files), DIR_IMAGES, 'train/', '.jpg')\n",
    "move_files(set(files) - set(val_files), DIR_LABELS, 'train/', '.txt')"
   ]
  },
  {
   "cell_type": "code",
   "execution_count": 13,
   "metadata": {},
   "outputs": [
    {
     "name": "stdout",
     "output_type": "stream",
     "text": [
      "{0: 'брызги-прожоги', 1: 'целостность', 2: 'геометрия', 3: 'постобработка', 4: 'невыполнение'}\n"
     ]
    }
   ],
   "source": [
    "from ultralytics import YOLO\n",
    "\n",
    "MODEL_NAME = './yolov8m_200epoch.pt'\n",
    "\n",
    "model = YOLO(MODEL_NAME)\n",
    "\n",
    "model.model.names = {0: 'брызги-прожоги', 1:'целостность', 2:'геометрия', 3:'постобработка', 4:'невыполнение'}\n",
    "\n",
    "model.save(\"yolov8m_200epoch_rus_cls_name.pt\")\n",
    "\n",
    "model = YOLO(r\"yolov8m_200epoch_rus_cls_name.pt\")\n",
    "print(model.names)"
   ]
  },
  {
   "cell_type": "code",
   "execution_count": 11,
   "metadata": {},
   "outputs": [],
   "source": [
    "from datetime import datetime\n",
    "import pandas as pd\n",
    "import os"
   ]
  },
  {
   "cell_type": "code",
   "execution_count": 2,
   "metadata": {},
   "outputs": [],
   "source": [
    "\n",
    "now1 = datetime.now()"
   ]
  },
  {
   "cell_type": "code",
   "execution_count": 8,
   "metadata": {},
   "outputs": [],
   "source": [
    "now2 = datetime.now()"
   ]
  },
  {
   "cell_type": "code",
   "execution_count": 9,
   "metadata": {},
   "outputs": [
    {
     "data": {
      "text/plain": [
       "1"
      ]
     },
     "execution_count": 9,
     "metadata": {},
     "output_type": "execute_result"
    }
   ],
   "source": [
    "int((now2-now1).total_seconds()/60)"
   ]
  },
  {
   "cell_type": "code",
   "execution_count": 29,
   "metadata": {},
   "outputs": [],
   "source": [
    "USERS = pd.DataFrame(\n",
    "    columns=['start_period', 'count_photos', 'tmp_dir']\n",
    ")\n",
    "# USERS.set_index('chat_id')\n",
    "chat_id=33355255\n",
    "now = datetime.now()\n",
    "USERS.loc[chat_id] = [now, 1, os.path.join('TEMP_DIR', 'fdsf')]\n",
    "# \n",
    "# if chat_id in USERS.index:\n",
    "#     USERS[chat_id]['count_photos'] += 1\n",
    "# else:\n",
    "#     USERS = USERS.append([chat_id, now, 1, os.path.join('TEMP_DIR', 'fdsf')])"
   ]
  },
  {
   "cell_type": "code",
   "execution_count": 37,
   "metadata": {},
   "outputs": [],
   "source": [
    "USERS.at[chat_id, 'count_photos'] = USERS.loc[chat_id, 'count_photos'] + 1\n",
    "# USERS.loc[chat_id]"
   ]
  },
  {
   "cell_type": "code",
   "execution_count": 38,
   "metadata": {},
   "outputs": [
    {
     "data": {
      "text/html": [
       "<div>\n",
       "<style scoped>\n",
       "    .dataframe tbody tr th:only-of-type {\n",
       "        vertical-align: middle;\n",
       "    }\n",
       "\n",
       "    .dataframe tbody tr th {\n",
       "        vertical-align: top;\n",
       "    }\n",
       "\n",
       "    .dataframe thead th {\n",
       "        text-align: right;\n",
       "    }\n",
       "</style>\n",
       "<table border=\"1\" class=\"dataframe\">\n",
       "  <thead>\n",
       "    <tr style=\"text-align: right;\">\n",
       "      <th></th>\n",
       "      <th>start_period</th>\n",
       "      <th>count_photos</th>\n",
       "      <th>tmp_dir</th>\n",
       "    </tr>\n",
       "  </thead>\n",
       "  <tbody>\n",
       "    <tr>\n",
       "      <th>33355255</th>\n",
       "      <td>2024-07-06 18:13:59.285445</td>\n",
       "      <td>2</td>\n",
       "      <td>TEMP_DIR\\fdsf</td>\n",
       "    </tr>\n",
       "  </tbody>\n",
       "</table>\n",
       "</div>"
      ],
      "text/plain": [
       "                       start_period  count_photos        tmp_dir\n",
       "33355255 2024-07-06 18:13:59.285445             2  TEMP_DIR\\fdsf"
      ]
     },
     "execution_count": 38,
     "metadata": {},
     "output_type": "execute_result"
    }
   ],
   "source": [
    "USERS.head()"
   ]
  },
  {
   "cell_type": "code",
   "execution_count": 39,
   "metadata": {},
   "outputs": [
    {
     "data": {
      "text/plain": [
       "{'start_period': Timestamp('2024-07-06 18:13:59.285445'),\n",
       " 'count_photos': 2,\n",
       " 'tmp_dir': 'TEMP_DIR\\\\fdsf'}"
      ]
     },
     "execution_count": 39,
     "metadata": {},
     "output_type": "execute_result"
    }
   ],
   "source": [
    "USERS.loc[chat_id].to_dict()"
   ]
  },
  {
   "cell_type": "code",
   "execution_count": null,
   "metadata": {},
   "outputs": [],
   "source": []
  }
 ],
 "metadata": {
  "kernelspec": {
   "display_name": "venv",
   "language": "python",
   "name": "python3"
  },
  "language_info": {
   "codemirror_mode": {
    "name": "ipython",
    "version": 3
   },
   "file_extension": ".py",
   "mimetype": "text/x-python",
   "name": "python",
   "nbconvert_exporter": "python",
   "pygments_lexer": "ipython3",
   "version": "3.9.10"
  }
 },
 "nbformat": 4,
 "nbformat_minor": 2
}
