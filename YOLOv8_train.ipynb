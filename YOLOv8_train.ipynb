{
  "cells": [
    {
      "cell_type": "markdown",
      "metadata": {
        "id": "7mGmQbAO5pQb"
      },
      "source": [
        "# Setup\n",
        "\n",
        "Pip install `ultralytics` and [dependencies](https://github.com/ultralytics/ultralytics/blob/main/pyproject.toml) and check software and hardware.\n",
        "\n",
        "[![PyPI - Version](https://img.shields.io/pypi/v/ultralytics?logo=pypi&logoColor=white)](https://pypi.org/project/ultralytics/) [![Downloads](https://static.pepy.tech/badge/ultralytics)](https://pepy.tech/project/ultralytics) [![PyPI - Python Version](https://img.shields.io/pypi/pyversions/ultralytics?logo=python&logoColor=gold)](https://pypi.org/project/ultralytics/)"
      ]
    },
    {
      "cell_type": "code",
      "execution_count": null,
      "metadata": {
        "colab": {
          "base_uri": "https://localhost:8080/"
        },
        "id": "wbvMlHd_QwMG",
        "outputId": "96335d4c-20a9-4864-f7a4-bb2eb0077a9d"
      },
      "outputs": [],
      "source": [
        "# %pip install ultralytics\n",
        "import ultralytics\n",
        "\n",
        "ultralytics.checks()"
      ]
    },
    {
      "cell_type": "code",
      "execution_count": null,
      "metadata": {},
      "outputs": [],
      "source": [
        "# @title Select YOLOv8 🚀 logger {run: 'auto'}\n",
        "logger = 'Comet'  # @param ['Comet', 'TensorBoard']\n",
        "\n",
        "if logger == 'Comet':\n",
        "    %pip install -q comet_ml\n",
        "    import comet_ml\n",
        "\n",
        "    comet_ml.init()\n",
        "elif logger == 'TensorBoard':\n",
        "    %load_ext tensorboard\n",
        "    %tensorboard --logdir ."
      ]
    },
    {
      "cell_type": "markdown",
      "metadata": {
        "id": "ZY2VXXXu74w5"
      },
      "source": [
        "# 1. Train\n"
      ]
    },
    {
      "cell_type": "code",
      "execution_count": null,
      "metadata": {
        "colab": {
          "base_uri": "https://localhost:8080/"
        },
        "id": "1NcFxRcFdJ_O",
        "outputId": "9f60c6cb-fa9c-4785-cb7a-71d40abeaf38"
      },
      "outputs": [],
      "source": [
        "# Train YOLOv8n on rosatom dataset\n",
        "from ultralytics import YOLO\n",
        "\n",
        "# Load a model\n",
        "model = YOLO('yolov8m.yaml')  # build a new model from YAML\n",
        "model = YOLO('yolov8m.pt')  # load a pretrained model (recommended for training)\n",
        "model = YOLO('yolov8m.yaml').load(\n",
        "    'yolov8m.pt'\n",
        ")  # build from YAML and transfer weights\n",
        "\n",
        "# Train the model\n",
        "results = model.train(data='rosatom.yaml', epochs=200, imgsz=640)"
      ]
    },
    {
      "cell_type": "markdown",
      "metadata": {
        "id": "kUMOQ0OeDBJG"
      },
      "source": [
        "# 2. Prediction"
      ]
    },
    {
      "cell_type": "code",
      "execution_count": null,
      "metadata": {
        "id": "bpF9-vS_DAaf"
      },
      "outputs": [],
      "source": [
        "import os\n",
        "import csv\n",
        "from ultralytics import YOLO\n",
        "\n",
        "\n",
        "DIR_IMAGES = './data/dataset/rosatom/images/val/'\n",
        "\n",
        "\n",
        "# Run batched inference on a list of images\n",
        "# list_images = [\"im1.jpg\", \"im2.jpg\"]\n",
        "files = [os.path.join(DIR_IMAGES, f) for f in os.listdir(DIR_IMAGES)]\n",
        "print(f'{len(files)} files for submission')\n",
        "# Load a model\n",
        "model = YOLO('yolov8_n_200epoch.pt')\n",
        "\n",
        "results = model(files)  # return a list of Results objects"
      ]
    },
    {
      "cell_type": "code",
      "execution_count": null,
      "metadata": {},
      "outputs": [],
      "source": [
        "# Define CSV file path\n",
        "import random\n",
        "\n",
        "import csv\n",
        "\n",
        "csv_file = 'submission.csv'\n",
        "\n",
        "# Write results to CSV\n",
        "with open(csv_file, mode='w', newline='') as file:\n",
        "    writer = csv.writer(file, delimiter=';')\n",
        "    writer.writerow(\n",
        "        ['filename', 'class_id', 'rel_x', 'rel_y', 'width', 'height']\n",
        "    )\n",
        "    for result in results:\n",
        "        file_name = os.path.basename(result.path)\n",
        "        for bbox in result.boxes:\n",
        "            current_bbox = bbox.xyxyn[0]\n",
        "            rel_x = current_bbox[0] + (current_bbox[2] - current_bbox[0]) / 2\n",
        "            rel_y = current_bbox[1] + (current_bbox[3] - current_bbox[1]) / 2\n",
        "            width = (\n",
        "                current_bbox[2] - current_bbox[0] + random.randint(-0.1, 0.1)\n",
        "            )\n",
        "            height = (\n",
        "                current_bbox[3] - current_bbox[1] + random.randint(-0.1, 0.1)\n",
        "            )\n",
        "            writer.writerow(\n",
        "                [\n",
        "                    file_name,\n",
        "                    int(bbox.cls[0]),\n",
        "                    float(rel_x),\n",
        "                    float(rel_y),\n",
        "                    float(width),\n",
        "                    float(height),\n",
        "                ]\n",
        "            )"
      ]
    },
    {
      "cell_type": "code",
      "execution_count": null,
      "metadata": {},
      "outputs": [],
      "source": []
    }
  ],
  "metadata": {
    "accelerator": "GPU",
    "colab": {
      "provenance": [],
      "toc_visible": true
    },
    "kernelspec": {
      "display_name": "Python 3",
      "name": "python3"
    },
    "language_info": {
      "codemirror_mode": {
        "name": "ipython",
        "version": 3
      },
      "file_extension": ".py",
      "mimetype": "text/x-python",
      "name": "python",
      "nbconvert_exporter": "python",
      "pygments_lexer": "ipython3",
      "version": "3.9.10"
    }
  },
  "nbformat": 4,
  "nbformat_minor": 0
}
